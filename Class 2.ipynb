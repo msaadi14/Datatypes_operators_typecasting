{
 "cells": [
  {
   "cell_type": "code",
   "execution_count": 1,
   "id": "7facc43b-aad6-45e2-bd11-898f46962779",
   "metadata": {},
   "outputs": [
    {
     "data": {
      "text/plain": [
       "7"
      ]
     },
     "execution_count": 1,
     "metadata": {},
     "output_type": "execute_result"
    }
   ],
   "source": [
    "2+5"
   ]
  },
  {
   "cell_type": "code",
   "execution_count": 3,
   "id": "378a79dc-a194-4f49-a9f9-48876a3f2f9e",
   "metadata": {},
   "outputs": [
    {
     "data": {
      "text/plain": [
       "1"
      ]
     },
     "execution_count": 3,
     "metadata": {},
     "output_type": "execute_result"
    }
   ],
   "source": [
    "5-4"
   ]
  },
  {
   "cell_type": "code",
   "execution_count": 5,
   "id": "b8feea7e-9d48-4aa9-aab3-43f534f3c609",
   "metadata": {},
   "outputs": [
    {
     "data": {
      "text/plain": [
       "6"
      ]
     },
     "execution_count": 5,
     "metadata": {},
     "output_type": "execute_result"
    }
   ],
   "source": [
    "2*3"
   ]
  },
  {
   "cell_type": "code",
   "execution_count": 7,
   "id": "5191afc7-f8ba-4a59-80ec-9a1c35cf9e59",
   "metadata": {},
   "outputs": [
    {
     "data": {
      "text/plain": [
       "2.0"
      ]
     },
     "execution_count": 7,
     "metadata": {},
     "output_type": "execute_result"
    }
   ],
   "source": [
    "10/5"
   ]
  },
  {
   "cell_type": "code",
   "execution_count": 9,
   "id": "40bc3e6c-0a2e-487b-aece-c54004f728e4",
   "metadata": {},
   "outputs": [
    {
     "data": {
      "text/plain": [
       "2"
      ]
     },
     "execution_count": 9,
     "metadata": {},
     "output_type": "execute_result"
    }
   ],
   "source": [
    "10//5\n"
   ]
  },
  {
   "cell_type": "code",
   "execution_count": 11,
   "id": "d9408c9c-82dd-45d9-98bf-86c79d7122f9",
   "metadata": {},
   "outputs": [
    {
     "data": {
      "text/plain": [
       "2"
      ]
     },
     "execution_count": 11,
     "metadata": {},
     "output_type": "execute_result"
    }
   ],
   "source": [
    "11%3"
   ]
  },
  {
   "cell_type": "code",
   "execution_count": 13,
   "id": "3f8b7b46-c1b3-4a9e-b3ba-5ccf8a669e06",
   "metadata": {},
   "outputs": [
    {
     "data": {
      "text/plain": [
       "8"
      ]
     },
     "execution_count": 13,
     "metadata": {},
     "output_type": "execute_result"
    }
   ],
   "source": [
    "2**3"
   ]
  },
  {
   "cell_type": "markdown",
   "id": "e1bab0bc-26fc-48d3-be85-71c1def254ad",
   "metadata": {},
   "source": [
    "# Datatypes"
   ]
  },
  {
   "cell_type": "code",
   "execution_count": null,
   "id": "d8c78011-fff8-4183-a991-b9f3b4a31fa2",
   "metadata": {},
   "outputs": [],
   "source": [
    "#1) String 2) Integer 3) Float 4)boolen 5)list 6)Tuple 7)Dictionary 8)Set"
   ]
  },
  {
   "cell_type": "code",
   "execution_count": 17,
   "id": "f5c4dd76-b4ff-4172-9402-bedddd940e6a",
   "metadata": {},
   "outputs": [],
   "source": [
    "student_name=\"Saadi\""
   ]
  },
  {
   "cell_type": "code",
   "execution_count": 19,
   "id": "590cff59-9d6d-4d04-a8b9-f050a54d8bc0",
   "metadata": {},
   "outputs": [
    {
     "name": "stdout",
     "output_type": "stream",
     "text": [
      "Saadi\n"
     ]
    }
   ],
   "source": [
    "print(student_name)"
   ]
  },
  {
   "cell_type": "code",
   "execution_count": 23,
   "id": "65b2e88a-c47a-4e9a-9fea-1266cc1dec94",
   "metadata": {},
   "outputs": [
    {
     "name": "stdout",
     "output_type": "stream",
     "text": [
      "value: Saadi\n",
      "Type: <class 'str'>\n",
      "Memory Address: 2223875206064\n"
     ]
    }
   ],
   "source": [
    "print(\"value:\",student_name)\n",
    "print(\"Type:\",type(student_name))\n",
    "print(\"Memory Address:\",id(student_name))"
   ]
  },
  {
   "cell_type": "code",
   "execution_count": 31,
   "id": "c85c5cdf-07c5-426f-a444-eb9933269d02",
   "metadata": {},
   "outputs": [
    {
     "name": "stdout",
     "output_type": "stream",
     "text": [
      "Status: true\n",
      "class: <class 'str'>\n",
      "memory id 140713880061480\n"
     ]
    }
   ],
   "source": [
    "student_status=\"true\"\n",
    "print(\"Status:\",student_status)\n",
    "print(\"class:\",type(student_status))\n",
    "print(\"memory id\",id(student_status))"
   ]
  },
  {
   "cell_type": "code",
   "execution_count": 5,
   "id": "0ab75462-f8fe-4b57-bd44-e3c9da9e4a93",
   "metadata": {},
   "outputs": [
    {
     "name": "stdout",
     "output_type": "stream",
     "text": [
      "5\n",
      "7\n",
      "9\n"
     ]
    }
   ],
   "source": [
    "a=5\n",
    "print(a)\n",
    "a=7\n",
    "print(a)\n",
    "a=9\n",
    "print(a)\n",
    "#Interpretator reading each line."
   ]
  },
  {
   "cell_type": "code",
   "execution_count": null,
   "id": "dd86fe28-3a47-46ba-b2fe-d5ff1d812e14",
   "metadata": {},
   "outputs": [],
   "source": [
    "#List\n",
    "#Can store multiple values and is mutable or changable\n",
    "# Starts with []"
   ]
  },
  {
   "cell_type": "code",
   "execution_count": 17,
   "id": "835b6d7b-f966-421e-a553-78f9bce5bd17",
   "metadata": {},
   "outputs": [
    {
     "name": "stdout",
     "output_type": "stream",
     "text": [
      "['saadi', 'Hadi', 'Ali', 'Dawood']\n",
      "['saadi', 'Hadi', 'Osama', 'Dawood']\n"
     ]
    }
   ],
   "source": [
    "a=[\"saadi\",\"Hadi\",\"Ali\",\"Dawood\"]\n",
    "print(a)\n",
    "a[2]=\"Osama\"\n",
    "print(a)"
   ]
  },
  {
   "cell_type": "code",
   "execution_count": null,
   "id": "127db9ff-e77a-4af4-9f0a-4397348a81af",
   "metadata": {},
   "outputs": [],
   "source": [
    "# Tuple\n",
    "# Same as list but is not mutable or changable\n",
    "# Starts with ()"
   ]
  },
  {
   "cell_type": "code",
   "execution_count": 19,
   "id": "cdda4b14-64a9-444f-971e-03e2b6179602",
   "metadata": {},
   "outputs": [
    {
     "name": "stdout",
     "output_type": "stream",
     "text": [
      "('saadi', 'Hadi', 'Ali', 'Dawood')\n"
     ]
    },
    {
     "ename": "TypeError",
     "evalue": "'tuple' object does not support item assignment",
     "output_type": "error",
     "traceback": [
      "\u001b[1;31m---------------------------------------------------------------------------\u001b[0m",
      "\u001b[1;31mTypeError\u001b[0m                                 Traceback (most recent call last)",
      "Cell \u001b[1;32mIn[19], line 3\u001b[0m\n\u001b[0;32m      1\u001b[0m a\u001b[38;5;241m=\u001b[39m(\u001b[38;5;124m\"\u001b[39m\u001b[38;5;124msaadi\u001b[39m\u001b[38;5;124m\"\u001b[39m,\u001b[38;5;124m\"\u001b[39m\u001b[38;5;124mHadi\u001b[39m\u001b[38;5;124m\"\u001b[39m,\u001b[38;5;124m\"\u001b[39m\u001b[38;5;124mAli\u001b[39m\u001b[38;5;124m\"\u001b[39m,\u001b[38;5;124m\"\u001b[39m\u001b[38;5;124mDawood\u001b[39m\u001b[38;5;124m\"\u001b[39m)\n\u001b[0;32m      2\u001b[0m \u001b[38;5;28mprint\u001b[39m(a)\n\u001b[1;32m----> 3\u001b[0m a[\u001b[38;5;241m2\u001b[39m]\u001b[38;5;241m=\u001b[39m\u001b[38;5;124m\"\u001b[39m\u001b[38;5;124mOsama\u001b[39m\u001b[38;5;124m\"\u001b[39m\n\u001b[0;32m      4\u001b[0m \u001b[38;5;28mprint\u001b[39m(a)\n",
      "\u001b[1;31mTypeError\u001b[0m: 'tuple' object does not support item assignment"
     ]
    }
   ],
   "source": [
    "a=(\"saadi\",\"Hadi\",\"Ali\",\"Dawood\")\n",
    "print(a)\n",
    "a[2]=\"Osama\"\n",
    "print(a)"
   ]
  },
  {
   "cell_type": "code",
   "execution_count": null,
   "id": "6fd847e4-7877-4982-8f80-0eb0f640b961",
   "metadata": {},
   "outputs": [],
   "source": [
    "# Set\n",
    "# Returns only unique values\n",
    "# Starts with {}"
   ]
  },
  {
   "cell_type": "code",
   "execution_count": 21,
   "id": "3cdb9b65-cf7f-4600-870f-d1ddfb0b26a1",
   "metadata": {},
   "outputs": [
    {
     "name": "stdout",
     "output_type": "stream",
     "text": [
      "{'saadi', 'Dawood', 'Hadi', 'Ali'}\n"
     ]
    }
   ],
   "source": [
    "a={\"saadi\",\"Hadi\",\"Ali\",\"Dawood\",\"Hadi\"}\n",
    "print(a)\n"
   ]
  },
  {
   "cell_type": "code",
   "execution_count": null,
   "id": "ec495fdd-a8c6-486e-9187-3094db8a0a76",
   "metadata": {},
   "outputs": [],
   "source": [
    "#Dictionary"
   ]
  },
  {
   "cell_type": "code",
   "execution_count": 3,
   "id": "f57c8354-c07a-4300-9d37-420d91cb2e54",
   "metadata": {},
   "outputs": [
    {
     "name": "stdout",
     "output_type": "stream",
     "text": [
      "25\n"
     ]
    }
   ],
   "source": [
    "#            0    1      2   3\n",
    "record=[\"Qasim\",\"Aslam\",25,\"PGD\"]\n",
    "print(record[2])"
   ]
  },
  {
   "cell_type": "code",
   "execution_count": null,
   "id": "a9fc9759-f4b4-4e7d-8e12-a8311994e639",
   "metadata": {},
   "outputs": [],
   "source": [
    "#{\n",
    "  #  key1: value1\n",
    "   # key2: value2\n",
    "#}"
   ]
  },
  {
   "cell_type": "code",
   "execution_count": null,
   "id": "348c5835-b64a-4825-af9f-b8c32c24923f",
   "metadata": {},
   "outputs": [],
   "source": [
    "# In Dictionary we replace index with Key which can be string or integer."
   ]
  },
  {
   "cell_type": "code",
   "execution_count": 37,
   "id": "591737db-34b6-4506-a045-211425d49a26",
   "metadata": {},
   "outputs": [
    {
     "data": {
      "text/plain": [
       "{'name': 'Qasim', 'father_name': 'Aslam', 'age': 25, 'program': 'PGD'}"
      ]
     },
     "execution_count": 37,
     "metadata": {},
     "output_type": "execute_result"
    }
   ],
   "source": [
    "record={\n",
    "    \"name\": \"Qasim\",\n",
    "    \"father_name\":\"Aslam\",\n",
    "    \"age\": 25,\n",
    "    \"program\": \"PGD\"\n",
    "}\n",
    "record"
   ]
  },
  {
   "cell_type": "code",
   "execution_count": 43,
   "id": "13bf8857-a0cf-4094-a7d4-91800022a899",
   "metadata": {},
   "outputs": [
    {
     "data": {
      "text/plain": [
       "'PGD'"
      ]
     },
     "execution_count": 43,
     "metadata": {},
     "output_type": "execute_result"
    }
   ],
   "source": [
    "record[\"program\"]\n",
    "# Index replaced with Key value which is name, fname, age, and program so that it makes the slicing easier as you can see if we have enterred\n",
    "# large amount of data, values can be wrongly inputted in different index number for example name input in fname index therefore having key sorts that issue and therefore we store large data sets of customers in dictionary format to make slicing easier.\n"
   ]
  },
  {
   "cell_type": "code",
   "execution_count": 49,
   "id": "80172b52-0d63-432d-a49d-592cdd2b8bfe",
   "metadata": {},
   "outputs": [
    {
     "data": {
      "text/plain": [
       "{'roll_no': [1, 2, 3], 'name': ['Saadi', 'Hadi', 'Osama']}"
      ]
     },
     "execution_count": 49,
     "metadata": {},
     "output_type": "execute_result"
    }
   ],
   "source": [
    "record={\n",
    "    \"roll_no\" : [1,2,3],\n",
    "    \"name\" : [\"Saadi\",\"Hadi\",\"Osama\"]\n",
    "}\n",
    "record"
   ]
  },
  {
   "cell_type": "code",
   "execution_count": 55,
   "id": "e9bf44ee-4738-41b9-b908-b23c683c0a0f",
   "metadata": {},
   "outputs": [],
   "source": [
    "import pandas as pd"
   ]
  },
  {
   "cell_type": "code",
   "execution_count": 57,
   "id": "bf633e83-2670-4ac4-992d-cc6a526a6c12",
   "metadata": {},
   "outputs": [
    {
     "data": {
      "text/html": [
       "<div>\n",
       "<style scoped>\n",
       "    .dataframe tbody tr th:only-of-type {\n",
       "        vertical-align: middle;\n",
       "    }\n",
       "\n",
       "    .dataframe tbody tr th {\n",
       "        vertical-align: top;\n",
       "    }\n",
       "\n",
       "    .dataframe thead th {\n",
       "        text-align: right;\n",
       "    }\n",
       "</style>\n",
       "<table border=\"1\" class=\"dataframe\">\n",
       "  <thead>\n",
       "    <tr style=\"text-align: right;\">\n",
       "      <th></th>\n",
       "      <th>roll_no</th>\n",
       "      <th>name</th>\n",
       "    </tr>\n",
       "  </thead>\n",
       "  <tbody>\n",
       "    <tr>\n",
       "      <th>0</th>\n",
       "      <td>1</td>\n",
       "      <td>Saadi</td>\n",
       "    </tr>\n",
       "    <tr>\n",
       "      <th>1</th>\n",
       "      <td>2</td>\n",
       "      <td>Hadi</td>\n",
       "    </tr>\n",
       "    <tr>\n",
       "      <th>2</th>\n",
       "      <td>3</td>\n",
       "      <td>Osama</td>\n",
       "    </tr>\n",
       "  </tbody>\n",
       "</table>\n",
       "</div>"
      ],
      "text/plain": [
       "   roll_no   name\n",
       "0        1  Saadi\n",
       "1        2   Hadi\n",
       "2        3  Osama"
      ]
     },
     "execution_count": 57,
     "metadata": {},
     "output_type": "execute_result"
    }
   ],
   "source": [
    "pd.DataFrame(record)"
   ]
  },
  {
   "cell_type": "code",
   "execution_count": 59,
   "id": "c9212f4e-7142-47cf-b1f5-5166f693b34b",
   "metadata": {},
   "outputs": [
    {
     "data": {
      "text/plain": [
       "['__add__',\n",
       " '__class__',\n",
       " '__contains__',\n",
       " '__delattr__',\n",
       " '__dir__',\n",
       " '__doc__',\n",
       " '__eq__',\n",
       " '__format__',\n",
       " '__ge__',\n",
       " '__getattribute__',\n",
       " '__getitem__',\n",
       " '__getnewargs__',\n",
       " '__getstate__',\n",
       " '__gt__',\n",
       " '__hash__',\n",
       " '__init__',\n",
       " '__init_subclass__',\n",
       " '__iter__',\n",
       " '__le__',\n",
       " '__len__',\n",
       " '__lt__',\n",
       " '__mod__',\n",
       " '__mul__',\n",
       " '__ne__',\n",
       " '__new__',\n",
       " '__reduce__',\n",
       " '__reduce_ex__',\n",
       " '__repr__',\n",
       " '__rmod__',\n",
       " '__rmul__',\n",
       " '__setattr__',\n",
       " '__sizeof__',\n",
       " '__str__',\n",
       " '__subclasshook__',\n",
       " 'capitalize',\n",
       " 'casefold',\n",
       " 'center',\n",
       " 'count',\n",
       " 'encode',\n",
       " 'endswith',\n",
       " 'expandtabs',\n",
       " 'find',\n",
       " 'format',\n",
       " 'format_map',\n",
       " 'index',\n",
       " 'isalnum',\n",
       " 'isalpha',\n",
       " 'isascii',\n",
       " 'isdecimal',\n",
       " 'isdigit',\n",
       " 'isidentifier',\n",
       " 'islower',\n",
       " 'isnumeric',\n",
       " 'isprintable',\n",
       " 'isspace',\n",
       " 'istitle',\n",
       " 'isupper',\n",
       " 'join',\n",
       " 'ljust',\n",
       " 'lower',\n",
       " 'lstrip',\n",
       " 'maketrans',\n",
       " 'partition',\n",
       " 'removeprefix',\n",
       " 'removesuffix',\n",
       " 'replace',\n",
       " 'rfind',\n",
       " 'rindex',\n",
       " 'rjust',\n",
       " 'rpartition',\n",
       " 'rsplit',\n",
       " 'rstrip',\n",
       " 'split',\n",
       " 'splitlines',\n",
       " 'startswith',\n",
       " 'strip',\n",
       " 'swapcase',\n",
       " 'title',\n",
       " 'translate',\n",
       " 'upper',\n",
       " 'zfill']"
      ]
     },
     "execution_count": 59,
     "metadata": {},
     "output_type": "execute_result"
    }
   ],
   "source": [
    "name=\"mUhammad sAAdi\"\n",
    "dir(name)\n",
    "# dir function returns the functions that we can perform on this data type."
   ]
  },
  {
   "cell_type": "code",
   "execution_count": 61,
   "id": "054168ef-c10d-4a64-848f-4023f9b8e205",
   "metadata": {},
   "outputs": [
    {
     "data": {
      "text/plain": [
       "\u001b[1;31mSignature:\u001b[0m \u001b[0mname\u001b[0m\u001b[1;33m.\u001b[0m\u001b[0mtitle\u001b[0m\u001b[1;33m(\u001b[0m\u001b[1;33m)\u001b[0m\u001b[1;33m\u001b[0m\u001b[1;33m\u001b[0m\u001b[0m\n",
       "\u001b[1;31mDocstring:\u001b[0m\n",
       "Return a version of the string where each word is titlecased.\n",
       "\n",
       "More specifically, words start with uppercased characters and all remaining\n",
       "cased characters have lower case.\n",
       "\u001b[1;31mType:\u001b[0m      builtin_function_or_method"
      ]
     },
     "metadata": {},
     "output_type": "display_data"
    }
   ],
   "source": [
    "name.title??\n",
    "# adding ?? will tell you the details of particular function like title function here."
   ]
  },
  {
   "cell_type": "code",
   "execution_count": 63,
   "id": "141382df-1f21-4a55-ae25-e0579f7d32b7",
   "metadata": {},
   "outputs": [
    {
     "data": {
      "text/plain": [
       "'Muhammad Saadi'"
      ]
     },
     "execution_count": 63,
     "metadata": {},
     "output_type": "execute_result"
    }
   ],
   "source": [
    "name.title()\n",
    "# to apply any function on data type just write datatype.function()"
   ]
  },
  {
   "cell_type": "code",
   "execution_count": 67,
   "id": "b5499fd5-cd90-4b8f-bf37-897e05e1f91e",
   "metadata": {},
   "outputs": [
    {
     "data": {
      "text/plain": [
       "'muhammad saadi'"
      ]
     },
     "execution_count": 67,
     "metadata": {},
     "output_type": "execute_result"
    }
   ],
   "source": [
    "name.lower()"
   ]
  },
  {
   "cell_type": "code",
   "execution_count": 69,
   "id": "dfe8d731-5cdf-43ad-b8c9-4315d72a2d02",
   "metadata": {},
   "outputs": [
    {
     "data": {
      "text/plain": [
       "'MUHAMMAD SAADI'"
      ]
     },
     "execution_count": 69,
     "metadata": {},
     "output_type": "execute_result"
    }
   ],
   "source": [
    "name.upper()"
   ]
  },
  {
   "cell_type": "code",
   "execution_count": 73,
   "id": "f9dbf03f-5989-4563-86f3-c62883b4ab7b",
   "metadata": {},
   "outputs": [
    {
     "data": {
      "text/plain": [
       "\u001b[1;31mSignature:\u001b[0m \u001b[0mname\u001b[0m\u001b[1;33m.\u001b[0m\u001b[0mljust\u001b[0m\u001b[1;33m(\u001b[0m\u001b[0mwidth\u001b[0m\u001b[1;33m,\u001b[0m \u001b[0mfillchar\u001b[0m\u001b[1;33m=\u001b[0m\u001b[1;34m' '\u001b[0m\u001b[1;33m,\u001b[0m \u001b[1;33m/\u001b[0m\u001b[1;33m)\u001b[0m\u001b[1;33m\u001b[0m\u001b[1;33m\u001b[0m\u001b[0m\n",
       "\u001b[1;31mDocstring:\u001b[0m\n",
       "Return a left-justified string of length width.\n",
       "\n",
       "Padding is done using the specified fill character (default is a space).\n",
       "\u001b[1;31mType:\u001b[0m      builtin_function_or_method"
      ]
     },
     "metadata": {},
     "output_type": "display_data"
    }
   ],
   "source": [
    "name.ljust??"
   ]
  },
  {
   "cell_type": "code",
   "execution_count": 83,
   "id": "e7b99862-dc6d-4932-a8ac-f677a5ce24a3",
   "metadata": {},
   "outputs": [
    {
     "data": {
      "text/plain": [
       "'Saadi'"
      ]
     },
     "execution_count": 83,
     "metadata": {},
     "output_type": "execute_result"
    }
   ],
   "source": [
    "name=\"Saadi\"\n",
    "name"
   ]
  },
  {
   "cell_type": "code",
   "execution_count": 89,
   "id": "332a567f-9325-463d-a7ab-9f8e11d03efc",
   "metadata": {},
   "outputs": [
    {
     "data": {
      "text/plain": [
       "'Hadi'"
      ]
     },
     "execution_count": 89,
     "metadata": {},
     "output_type": "execute_result"
    }
   ],
   "source": [
    "name1= name.replace(\"Saadi\",\"Hadi\")\n",
    "name1"
   ]
  },
  {
   "cell_type": "code",
   "execution_count": 91,
   "id": "b82e997d-7e95-4d9c-b21d-d5d260c3a1ef",
   "metadata": {},
   "outputs": [
    {
     "name": "stdout",
     "output_type": "stream",
     "text": [
      "Saadi\n",
      "Hadi\n"
     ]
    }
   ],
   "source": [
    "print(name)\n",
    "print(name1)"
   ]
  },
  {
   "cell_type": "markdown",
   "id": "64ddb15c-6682-498b-9397-18f20641d762",
   "metadata": {},
   "source": [
    "# Type Casting\n"
   ]
  },
  {
   "cell_type": "code",
   "execution_count": null,
   "id": "6c11fd07-1ac6-4568-9209-dccd104b1b87",
   "metadata": {},
   "outputs": [],
   "source": [
    "# It means changing data type from one type to another type."
   ]
  },
  {
   "cell_type": "code",
   "execution_count": 99,
   "id": "b0e08e18-2292-482d-bb65-8de9aecf6daa",
   "metadata": {},
   "outputs": [
    {
     "name": "stdout",
     "output_type": "stream",
     "text": [
      "<class 'int'>\n",
      "<class 'float'>\n",
      "<class 'bool'>\n",
      "<class 'int'>\n",
      "<class 'str'>\n"
     ]
    }
   ],
   "source": [
    "a=5\n",
    "print(type(a)) # integer type\n",
    "a=float(a) # float type\n",
    "print(type(a))\n",
    "a=bool(a) #Bool\n",
    "print(type(a))\n",
    "a=int(a)\n",
    "print(type(a))\n",
    "a=str(a)\n",
    "print(type(a))\n"
   ]
  },
  {
   "cell_type": "code",
   "execution_count": 103,
   "id": "5416c623-58d3-4bca-b98f-0ca0fc6cbc8d",
   "metadata": {},
   "outputs": [
    {
     "name": "stdout",
     "output_type": "stream",
     "text": [
      "<class 'bool'>\n"
     ]
    }
   ],
   "source": [
    "name=\"Saadi\"\n",
    "name=bool(name)\n",
    "print(type(name))"
   ]
  },
  {
   "cell_type": "code",
   "execution_count": 121,
   "id": "a5192144-9c19-4836-948c-bb7589c1fed6",
   "metadata": {},
   "outputs": [
    {
     "data": {
      "text/plain": [
       "'aadi'"
      ]
     },
     "execution_count": 121,
     "metadata": {},
     "output_type": "execute_result"
    }
   ],
   "source": [
    "name=\"Saadi\"\n",
    "name[1:]\n",
    "# In string data type slicing can happen but overwriting I mean changing alphabet S to H can't happen."
   ]
  },
  {
   "cell_type": "code",
   "execution_count": 123,
   "id": "4150fe4d-4c3b-4072-b919-aecff1280dca",
   "metadata": {},
   "outputs": [
    {
     "ename": "TypeError",
     "evalue": "'str' object does not support item assignment",
     "output_type": "error",
     "traceback": [
      "\u001b[1;31m---------------------------------------------------------------------------\u001b[0m",
      "\u001b[1;31mTypeError\u001b[0m                                 Traceback (most recent call last)",
      "Cell \u001b[1;32mIn[123], line 1\u001b[0m\n\u001b[1;32m----> 1\u001b[0m name[\u001b[38;5;241m0\u001b[39m]\u001b[38;5;241m=\u001b[39m\u001b[38;5;124m\"\u001b[39m\u001b[38;5;124mH\u001b[39m\u001b[38;5;124m\"\u001b[39m\n",
      "\u001b[1;31mTypeError\u001b[0m: 'str' object does not support item assignment"
     ]
    }
   ],
   "source": [
    "name[0]=\"H\"\n",
    "# String data type does not support overwriting."
   ]
  },
  {
   "cell_type": "code",
   "execution_count": 133,
   "id": "d2c37ebb-e623-4f4c-b24b-75d1dae70aa7",
   "metadata": {},
   "outputs": [
    {
     "name": "stdout",
     "output_type": "stream",
     "text": [
      "['S', 'a', 'a', 'd', 'i']\n",
      "['H', 'a', 'a', 'd', 'i']\n"
     ]
    }
   ],
   "source": [
    "b=list(name)\n",
    "print(b)\n",
    "b[0]=\"H\"\n",
    "print(b)\n",
    "#list supports overwriting."
   ]
  },
  {
   "cell_type": "code",
   "execution_count": 137,
   "id": "8ea713ec-d236-4447-8ba7-42e6251e5df3",
   "metadata": {},
   "outputs": [
    {
     "name": "stdout",
     "output_type": "stream",
     "text": [
      "2225299118608\n",
      "2225299118608\n"
     ]
    }
   ],
   "source": [
    "uni=\"NED\"\n",
    "university_name=\"NED\"\n",
    "print(id(uni))\n",
    "print(id(university_name))\n",
    "# If a variable has same value in it then that variable will be stored in the same ID."
   ]
  },
  {
   "cell_type": "code",
   "execution_count": 148,
   "id": "11661f2f-776f-4573-a72f-c783da2a2761",
   "metadata": {},
   "outputs": [
    {
     "data": {
      "text/plain": [
       "\u001b[1;31mInit signature:\u001b[0m \u001b[0mrange\u001b[0m\u001b[1;33m(\u001b[0m\u001b[0mself\u001b[0m\u001b[1;33m,\u001b[0m \u001b[1;33m/\u001b[0m\u001b[1;33m,\u001b[0m \u001b[1;33m*\u001b[0m\u001b[0margs\u001b[0m\u001b[1;33m,\u001b[0m \u001b[1;33m**\u001b[0m\u001b[0mkwargs\u001b[0m\u001b[1;33m)\u001b[0m\u001b[1;33m\u001b[0m\u001b[1;33m\u001b[0m\u001b[0m\n",
       "\u001b[1;31mDocstring:\u001b[0m     \n",
       "range(stop) -> range object\n",
       "range(start, stop[, step]) -> range object\n",
       "\n",
       "Return an object that produces a sequence of integers from start (inclusive)\n",
       "to stop (exclusive) by step.  range(i, j) produces i, i+1, i+2, ..., j-1.\n",
       "start defaults to 0, and stop is omitted!  range(4) produces 0, 1, 2, 3.\n",
       "These are exactly the valid indices for a list of 4 elements.\n",
       "When step is given, it specifies the increment (or decrement).\n",
       "\u001b[1;31mType:\u001b[0m           type\n",
       "\u001b[1;31mSubclasses:\u001b[0m     "
      ]
     },
     "metadata": {},
     "output_type": "display_data"
    }
   ],
   "source": [
    "range??"
   ]
  },
  {
   "cell_type": "code",
   "execution_count": 150,
   "id": "dca2656e-d0eb-494d-9511-0e33e6886615",
   "metadata": {},
   "outputs": [
    {
     "data": {
      "text/plain": [
       "range(0, 10)"
      ]
     },
     "execution_count": 150,
     "metadata": {},
     "output_type": "execute_result"
    }
   ],
   "source": [
    "range(10)"
   ]
  },
  {
   "cell_type": "code",
   "execution_count": 152,
   "id": "730a062e-ef79-4ab8-b197-ac09acf93029",
   "metadata": {},
   "outputs": [
    {
     "data": {
      "text/plain": [
       "[0, 1, 2, 3, 4, 5, 6, 7, 8, 9]"
      ]
     },
     "execution_count": 152,
     "metadata": {},
     "output_type": "execute_result"
    }
   ],
   "source": [
    "list(range(10))"
   ]
  },
  {
   "cell_type": "code",
   "execution_count": 154,
   "id": "07689ff8-f638-4087-98db-4ea94e288be2",
   "metadata": {},
   "outputs": [
    {
     "data": {
      "text/plain": [
       "[2, 4, 6, 8, 10, 12, 14, 16, 18, 20]"
      ]
     },
     "execution_count": 154,
     "metadata": {},
     "output_type": "execute_result"
    }
   ],
   "source": [
    "list(range(2,21,2))"
   ]
  },
  {
   "cell_type": "code",
   "execution_count": 156,
   "id": "f3362e91-d6ec-4a5d-a5f1-28c1938fd7ed",
   "metadata": {},
   "outputs": [
    {
     "data": {
      "text/plain": [
       "[2, 5, 8, 11, 14, 17, 20]"
      ]
     },
     "execution_count": 156,
     "metadata": {},
     "output_type": "execute_result"
    }
   ],
   "source": [
    "list(range(2,21,3))"
   ]
  },
  {
   "cell_type": "markdown",
   "id": "54402c1a-74ce-4057-b021-a88f44b683e7",
   "metadata": {},
   "source": [
    "# Assign Operators"
   ]
  },
  {
   "cell_type": "code",
   "execution_count": 163,
   "id": "2ac90815-5275-440a-814b-4b2581c829d0",
   "metadata": {},
   "outputs": [
    {
     "data": {
      "text/plain": [
       "7"
      ]
     },
     "execution_count": 163,
     "metadata": {},
     "output_type": "execute_result"
    }
   ],
   "source": [
    "a=5\n",
    "a+=2\n",
    "a"
   ]
  },
  {
   "cell_type": "code",
   "execution_count": 165,
   "id": "2b7e711f-a63a-49b5-b1ca-095d5fa9b381",
   "metadata": {},
   "outputs": [
    {
     "data": {
      "text/plain": [
       "4"
      ]
     },
     "execution_count": 165,
     "metadata": {},
     "output_type": "execute_result"
    }
   ],
   "source": [
    "a=9\n",
    "a-=5\n",
    "a"
   ]
  },
  {
   "cell_type": "code",
   "execution_count": 167,
   "id": "6f0e0a2c-780c-4794-be1d-67e9f672867f",
   "metadata": {},
   "outputs": [
    {
     "data": {
      "text/plain": [
       "6"
      ]
     },
     "execution_count": 167,
     "metadata": {},
     "output_type": "execute_result"
    }
   ],
   "source": [
    "a=2\n",
    "a*=3\n",
    "a"
   ]
  },
  {
   "cell_type": "code",
   "execution_count": 171,
   "id": "1804f3a5-5f24-4efc-9455-fab32163feaa",
   "metadata": {},
   "outputs": [
    {
     "data": {
      "text/plain": [
       "2"
      ]
     },
     "execution_count": 171,
     "metadata": {},
     "output_type": "execute_result"
    }
   ],
   "source": [
    "a=10\n",
    "a//=5\n",
    "a"
   ]
  },
  {
   "cell_type": "markdown",
   "id": "aeee10e6-9ab2-4b7f-baab-6ad71ff30e6f",
   "metadata": {},
   "source": [
    "# Comparison Operators"
   ]
  },
  {
   "cell_type": "code",
   "execution_count": null,
   "id": "2d2f1c88-f818-4b52-adb4-2cd21d47cf3d",
   "metadata": {},
   "outputs": [],
   "source": [
    "## It is used to compare variables"
   ]
  },
  {
   "cell_type": "code",
   "execution_count": 174,
   "id": "0357648a-ae73-42ce-8363-07097cad8d26",
   "metadata": {},
   "outputs": [
    {
     "data": {
      "text/plain": [
       "False"
      ]
     },
     "execution_count": 174,
     "metadata": {},
     "output_type": "execute_result"
    }
   ],
   "source": [
    "a=\"qasim\"\n",
    "b=\"Qasim\"\n",
    "a==b"
   ]
  },
  {
   "cell_type": "code",
   "execution_count": 176,
   "id": "4e6eb19a-ffc0-433c-add3-240632c15e91",
   "metadata": {},
   "outputs": [
    {
     "data": {
      "text/plain": [
       "True"
      ]
     },
     "execution_count": 176,
     "metadata": {},
     "output_type": "execute_result"
    }
   ],
   "source": [
    "b=\"qasim\"\n",
    "a==b # equal to"
   ]
  },
  {
   "cell_type": "code",
   "execution_count": 178,
   "id": "d5d1d366-2664-47a2-b9b1-7d812b2f5e62",
   "metadata": {},
   "outputs": [
    {
     "data": {
      "text/plain": [
       "True"
      ]
     },
     "execution_count": 178,
     "metadata": {},
     "output_type": "execute_result"
    }
   ],
   "source": [
    "b=\"Ali\"\n",
    "a!=b #is not equal to"
   ]
  },
  {
   "cell_type": "code",
   "execution_count": 180,
   "id": "da08c12a-5b00-44ff-93cf-2cc8d52586f2",
   "metadata": {},
   "outputs": [
    {
     "data": {
      "text/plain": [
       "False"
      ]
     },
     "execution_count": 180,
     "metadata": {},
     "output_type": "execute_result"
    }
   ],
   "source": [
    "a=5\n",
    "b=7\n",
    "a>b"
   ]
  },
  {
   "cell_type": "code",
   "execution_count": 182,
   "id": "e5773979-361f-432a-aac6-8863dbbe9683",
   "metadata": {},
   "outputs": [
    {
     "data": {
      "text/plain": [
       "False"
      ]
     },
     "execution_count": 182,
     "metadata": {},
     "output_type": "execute_result"
    }
   ],
   "source": [
    "a=8\n",
    "b=7\n",
    "a<b"
   ]
  },
  {
   "cell_type": "code",
   "execution_count": 184,
   "id": "c710132c-6a17-41ae-8973-13ece604c81d",
   "metadata": {},
   "outputs": [
    {
     "data": {
      "text/plain": [
       "True"
      ]
     },
     "execution_count": 184,
     "metadata": {},
     "output_type": "execute_result"
    }
   ],
   "source": [
    "a=5\n",
    "b=5\n",
    "a<=b"
   ]
  },
  {
   "cell_type": "code",
   "execution_count": 186,
   "id": "5c001b18-1c0c-44b3-bc71-5ecdcb4ae707",
   "metadata": {},
   "outputs": [
    {
     "data": {
      "text/plain": [
       "True"
      ]
     },
     "execution_count": 186,
     "metadata": {},
     "output_type": "execute_result"
    }
   ],
   "source": [
    "a=[\"Saadi\",\"Hadi\",\"Marium\",\"Warda\"]\n",
    "\"Hadi\" in a\n",
    "# in operator is also used to tell if any value exist."
   ]
  },
  {
   "cell_type": "code",
   "execution_count": 188,
   "id": "d801d74e-9e54-47b3-a6e3-4d3a639d4d61",
   "metadata": {},
   "outputs": [
    {
     "name": "stdout",
     "output_type": "stream",
     "text": [
      "['__add__', '__class__', '__contains__', '__delattr__', '__dir__', '__doc__', '__eq__', '__format__', '__ge__', '__getattribute__', '__getitem__', '__getnewargs__', '__getstate__', '__gt__', '__hash__', '__init__', '__init_subclass__', '__iter__', '__le__', '__len__', '__lt__', '__mod__', '__mul__', '__ne__', '__new__', '__reduce__', '__reduce_ex__', '__repr__', '__rmod__', '__rmul__', '__setattr__', '__sizeof__', '__str__', '__subclasshook__', 'capitalize', 'casefold', 'center', 'count', 'encode', 'endswith', 'expandtabs', 'find', 'format', 'format_map', 'index', 'isalnum', 'isalpha', 'isascii', 'isdecimal', 'isdigit', 'isidentifier', 'islower', 'isnumeric', 'isprintable', 'isspace', 'istitle', 'isupper', 'join', 'ljust', 'lower', 'lstrip', 'maketrans', 'partition', 'removeprefix', 'removesuffix', 'replace', 'rfind', 'rindex', 'rjust', 'rpartition', 'rsplit', 'rstrip', 'split', 'splitlines', 'startswith', 'strip', 'swapcase', 'title', 'translate', 'upper', 'zfill']\n"
     ]
    }
   ],
   "source": [
    "a=\"saif\"\n",
    "print(dir(a))"
   ]
  },
  {
   "cell_type": "code",
   "execution_count": 190,
   "id": "82563cec-6421-40f3-bd99-0b611c58af73",
   "metadata": {},
   "outputs": [],
   "source": [
    "b=dir(a)"
   ]
  },
  {
   "cell_type": "code",
   "execution_count": 192,
   "id": "cb2d117b-76b4-43fa-9ce7-198373851078",
   "metadata": {},
   "outputs": [
    {
     "name": "stdout",
     "output_type": "stream",
     "text": [
      "['capitalize', 'casefold', 'center', 'count', 'encode', 'endswith', 'expandtabs', 'find', 'format', 'index', 'isalnum', 'isalpha', 'isascii', 'isdecimal', 'isdigit', 'isidentifier', 'islower', 'isnumeric', 'isprintable', 'isspace', 'istitle', 'isupper', 'join', 'ljust', 'lower', 'lstrip', 'maketrans', 'partition', 'removeprefix', 'removesuffix', 'replace', 'rfind', 'rindex', 'rjust', 'rpartition', 'rsplit', 'rstrip', 'split', 'splitlines', 'startswith', 'strip', 'swapcase', 'title', 'translate', 'upper', 'zfill']\n"
     ]
    }
   ],
   "source": [
    "c= [item for item in b if \"_\" not in item]\n",
    "print(c)\n",
    "# Taking only function without _ in directory of a."
   ]
  },
  {
   "cell_type": "code",
   "execution_count": null,
   "id": "aea9260e-0f43-4807-83f5-b3b306266198",
   "metadata": {},
   "outputs": [],
   "source": []
  },
  {
   "cell_type": "code",
   "execution_count": null,
   "id": "c8a711dc-b80b-487c-9ace-a2088e2f556b",
   "metadata": {},
   "outputs": [],
   "source": []
  }
 ],
 "metadata": {
  "kernelspec": {
   "display_name": "Python [conda env:base] *",
   "language": "python",
   "name": "conda-base-py"
  },
  "language_info": {
   "codemirror_mode": {
    "name": "ipython",
    "version": 3
   },
   "file_extension": ".py",
   "mimetype": "text/x-python",
   "name": "python",
   "nbconvert_exporter": "python",
   "pygments_lexer": "ipython3",
   "version": "3.12.7"
  }
 },
 "nbformat": 4,
 "nbformat_minor": 5
}
